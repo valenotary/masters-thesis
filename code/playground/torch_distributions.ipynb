{
 "cells": [
  {
   "cell_type": "code",
   "execution_count": 1,
   "metadata": {},
   "outputs": [],
   "source": [
    "import torch \n",
    "\n",
    "q = torch.distributions.Normal(2, 4)"
   ]
  },
  {
   "cell_type": "code",
   "execution_count": 19,
   "metadata": {},
   "outputs": [
    {
     "name": "stdout",
     "output_type": "stream",
     "text": [
      "tensor(6.9271)\n"
     ]
    }
   ],
   "source": [
    "z = q.rsample() \n",
    "print(z)"
   ]
  },
  {
   "cell_type": "code",
   "execution_count": 20,
   "metadata": {},
   "outputs": [
    {
     "name": "stdout",
     "output_type": "stream",
     "text": [
      "log prob pz: -24.91128921508789, prob: 1.517625261571176e-11\n",
      "log prob qzx: -3.0638675689697266, prob: 0.046706702560186386\n"
     ]
    }
   ],
   "source": [
    "p = torch.distributions.Normal(0, 1)\n",
    "\n",
    "log_pz=p.log_prob(z)\n",
    "log_qzx = q.log_prob(z) \n",
    "\n",
    "print(f'log prob pz: {log_pz}, prob: {torch.exp(log_pz)}')\n",
    "print(f'log prob qzx: {log_qzx}, prob: {torch.exp(log_qzx)}')"
   ]
  },
  {
   "cell_type": "code",
   "execution_count": 21,
   "metadata": {},
   "outputs": [
    {
     "name": "stdout",
     "output_type": "stream",
     "text": [
      "tensor(21.8474)\n"
     ]
    }
   ],
   "source": [
    "print(log_qzx - log_pz)"
   ]
  },
  {
   "cell_type": "code",
   "execution_count": 22,
   "metadata": {},
   "outputs": [
    {
     "name": "stdout",
     "output_type": "stream",
     "text": [
      "log prob qzx: -6.003398895263672, prob: 0.0024703415110707283\n"
     ]
    }
   ],
   "source": [
    "q = torch.distributions.Normal(1, 2) \n",
    "log_qzx = q.log_prob(z) \n",
    "print(f'log prob qzx: {log_qzx}, prob: {torch.exp(log_qzx)}')"
   ]
  },
  {
   "cell_type": "code",
   "execution_count": 23,
   "metadata": {},
   "outputs": [
    {
     "name": "stdout",
     "output_type": "stream",
     "text": [
      "tensor(18.9079)\n"
     ]
    }
   ],
   "source": [
    "print(log_qzx - log_pz)"
   ]
  },
  {
   "cell_type": "code",
   "execution_count": 25,
   "metadata": {},
   "outputs": [],
   "source": [
    "\n",
    "def kl_divergence(z, mu, std):\n",
    "    # --------------------------\n",
    "    # Monte carlo KL divergence\n",
    "    # --------------------------\n",
    "    # 1. define the first two probabilities (in this case Normal for both)\n",
    "    p = torch.distributions.Normal(torch.zeros_like(mu), torch.ones_like(std))\n",
    "    q = torch.distributions.Normal(mu, std)\n",
    "\n",
    "    # 2. get the probabilities from the equation\n",
    "    log_qzx = q.log_prob(z)\n",
    "    log_pz = p.log_prob(z)\n",
    "\n",
    "    # kl\n",
    "    kl = (log_qzx - log_pz)\n",
    "    \n",
    "    # sum over last dim to go from single dim distribution to multi-dim\n",
    "    kl = kl.sum(-1)\n",
    "    print(kl.shape)\n",
    "    return kl"
   ]
  },
  {
   "cell_type": "code",
   "execution_count": null,
   "metadata": {},
   "outputs": [],
   "source": [
    "kl_divergence(mu = 0, std = 1)"
   ]
  }
 ],
 "metadata": {
  "interpreter": {
   "hash": "dbc3ac180e270eb62869ff50351f135610e738a700dca67c73ce3e3025f440cd"
  },
  "kernelspec": {
   "display_name": "Python 3.9.7 ('master-thesis-env')",
   "language": "python",
   "name": "python3"
  },
  "language_info": {
   "codemirror_mode": {
    "name": "ipython",
    "version": 3
   },
   "file_extension": ".py",
   "mimetype": "text/x-python",
   "name": "python",
   "nbconvert_exporter": "python",
   "pygments_lexer": "ipython3",
   "version": "3.9.7"
  },
  "orig_nbformat": 4
 },
 "nbformat": 4,
 "nbformat_minor": 2
}
